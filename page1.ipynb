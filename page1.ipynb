{
 "cells": [
  {
   "cell_type": "code",
   "execution_count": 21,
   "metadata": {},
   "outputs": [],
   "source": [
    "import sympy as sp"
   ]
  },
  {
   "cell_type": "code",
   "execution_count": 22,
   "metadata": {},
   "outputs": [],
   "source": [
    "x = sp.Symbol('x')\n",
    "y = sp.Symbol('y')"
   ]
  },
  {
   "cell_type": "code",
   "execution_count": 29,
   "metadata": {},
   "outputs": [
    {
     "name": "stdout",
     "output_type": "stream",
     "text": [
      "⎡⎛    ________   ⎞  ⎛   ________   ⎞⎤\n",
      "⎢⎜   ╱      2    ⎟  ⎜  ╱      2    ⎟⎥\n",
      "⎣⎝-╲╱  4 - y  , y⎠, ⎝╲╱  4 - y  , y⎠⎦\n"
     ]
    }
   ],
   "source": [
    "# creamos una ecuacion de segundo grado\n",
    "eq = x**2 + y**2 - 4\n",
    "\n",
    "# resolviendo la ecuacion\n",
    "sol = sp.solve(eq, x, y)\n",
    "\n",
    "# mostrando la solucion en pantalla\n",
    "sp.printing.pprint(sol)"
   ]
  },
  {
   "cell_type": "code",
   "execution_count": null,
   "metadata": {},
   "outputs": [],
   "source": []
  }
 ],
 "metadata": {
  "interpreter": {
   "hash": "bd39612269780de65820d1c2bbf9eafff23c65a55de7f0450007b8367a035416"
  },
  "kernelspec": {
   "display_name": "Python 3.10.1 64-bit",
   "language": "python",
   "name": "python3"
  },
  "language_info": {
   "codemirror_mode": {
    "name": "ipython",
    "version": 3
   },
   "file_extension": ".py",
   "mimetype": "text/x-python",
   "name": "python",
   "nbconvert_exporter": "python",
   "pygments_lexer": "ipython3",
   "version": "3.10.1"
  },
  "orig_nbformat": 4
 },
 "nbformat": 4,
 "nbformat_minor": 2
}
